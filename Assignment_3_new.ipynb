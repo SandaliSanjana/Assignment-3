{
  "nbformat": 4,
  "nbformat_minor": 0,
  "metadata": {
    "colab": {
      "provenance": [],
      "authorship_tag": "ABX9TyPV0EqWGHfedfPCkHujeqT+",
      "include_colab_link": true
    },
    "kernelspec": {
      "name": "python3",
      "display_name": "Python 3"
    },
    "language_info": {
      "name": "python"
    }
  },
  "cells": [
    {
      "cell_type": "markdown",
      "metadata": {
        "id": "view-in-github",
        "colab_type": "text"
      },
      "source": [
        "<a href=\"https://colab.research.google.com/github/SandaliSanjana/Assignment-3/blob/main/Assignment_3_new.ipynb\" target=\"_parent\"><img src=\"https://colab.research.google.com/assets/colab-badge.svg\" alt=\"Open In Colab\"/></a>"
      ]
    },
    {
      "cell_type": "code",
      "execution_count": 1,
      "metadata": {
        "colab": {
          "base_uri": "https://localhost:8080/"
        },
        "id": "ZfVHF3x_vDDQ",
        "outputId": "5b5d339b-e121-4f7d-a71b-6b8a036ef315"
      },
      "outputs": [
        {
          "output_type": "stream",
          "name": "stdout",
          "text": [
            "Downloading data from https://storage.googleapis.com/tensorflow/tf-keras-datasets/mnist.npz\n",
            "11490434/11490434 [==============================] - 1s 0us/step\n",
            "Model: \"sequential\"\n",
            "_________________________________________________________________\n",
            " Layer (type)                Output Shape              Param #   \n",
            "=================================================================\n",
            " conv2d (Conv2D)             (None, 28, 28, 6)         156       \n",
            "                                                                 \n",
            " average_pooling2d (Average  (None, 14, 14, 6)         0         \n",
            " Pooling2D)                                                      \n",
            "                                                                 \n",
            " conv2d_1 (Conv2D)           (None, 10, 10, 16)        2416      \n",
            "                                                                 \n",
            " average_pooling2d_1 (Avera  (None, 5, 5, 16)          0         \n",
            " gePooling2D)                                                    \n",
            "                                                                 \n",
            " flatten (Flatten)           (None, 400)               0         \n",
            "                                                                 \n",
            " dense (Dense)               (None, 120)               48120     \n",
            "                                                                 \n",
            " dense_1 (Dense)             (None, 84)                10164     \n",
            "                                                                 \n",
            " dense_2 (Dense)             (None, 10)                850       \n",
            "                                                                 \n",
            "=================================================================\n",
            "Total params: 61706 (241.04 KB)\n",
            "Trainable params: 61706 (241.04 KB)\n",
            "Non-trainable params: 0 (0.00 Byte)\n",
            "_________________________________________________________________\n",
            "None\n",
            "Epoch 1/10\n",
            "1875/1875 [==============================] - 54s 25ms/step - loss: 0.2154 - accuracy: 0.9339\n",
            "Epoch 2/10\n",
            "1875/1875 [==============================] - 35s 18ms/step - loss: 0.0700 - accuracy: 0.9783\n",
            "Epoch 3/10\n",
            "1875/1875 [==============================] - 34s 18ms/step - loss: 0.0497 - accuracy: 0.9844\n",
            "Epoch 4/10\n",
            "1875/1875 [==============================] - 34s 18ms/step - loss: 0.0386 - accuracy: 0.9876\n",
            "Epoch 5/10\n",
            "1875/1875 [==============================] - 34s 18ms/step - loss: 0.0310 - accuracy: 0.9900\n",
            "Epoch 6/10\n",
            "1875/1875 [==============================] - 35s 19ms/step - loss: 0.0259 - accuracy: 0.9916\n",
            "Epoch 7/10\n",
            "1875/1875 [==============================] - 36s 19ms/step - loss: 0.0204 - accuracy: 0.9935\n",
            "Epoch 8/10\n",
            "1875/1875 [==============================] - 34s 18ms/step - loss: 0.0180 - accuracy: 0.9943\n",
            "Epoch 9/10\n",
            "1875/1875 [==============================] - 32s 17ms/step - loss: 0.0156 - accuracy: 0.9952\n",
            "Epoch 10/10\n",
            "1875/1875 [==============================] - 33s 18ms/step - loss: 0.0140 - accuracy: 0.9955\n",
            "313/313 - 2s - loss: 0.0397 - accuracy: 0.9891 - 2s/epoch - 7ms/step\n",
            "Test accuracy =  0.9890999794006348\n"
          ]
        }
      ],
      "source": [
        "import tensorflow as tf\n",
        "from tensorflow import keras\n",
        "from tensorflow.keras import datasets, layers, models\n",
        "import numpy as np\n",
        "import matplotlib.pyplot as plt\n",
        "\n",
        "(x_train, y_train), (x_test, y_test) = datasets.mnist.load_data()\n",
        "paddings = tf.constant([[0,0], [2,2], [2,2]])\n",
        "x_train = tf.pad(x_train, paddings, constant_values=0)\n",
        "x_test = tf.pad(x_test, paddings, constant_values=0)\n",
        "\n",
        "class_names = ['0', '1', '2', '3', '4', '5', '6', '7', '8', '9']\n",
        "x_train = tf.dtypes.cast(x_train, tf.float32)\n",
        "x_test = tf.dtypes.cast(x_test, tf.float32)\n",
        "x_train, x_test = x_train[..., np.newaxis]/255., x_test[..., np.newaxis]/255.\n",
        "\n",
        "model = models.Sequential()\n",
        "model.add(layers.Conv2D(6, (5,5), activation='relu', input_shape=(32,32,1)))\n",
        "model.add(layers.AveragePooling2D((2,2)))\n",
        "model.add(layers.Conv2D(16, (5,5), activation='relu'))\n",
        "model.add(layers.AveragePooling2D((2,2)))\n",
        "model.add(layers.Flatten())\n",
        "model.add(layers.Dense(120, activation='relu'))\n",
        "model.add(layers.Dense(84, activation='relu'))\n",
        "model.add(layers.Dense(10))\n",
        "\n",
        "model.compile(optimizer='adam', loss=keras.losses.SparseCategoricalCrossentropy(from_logits=True), metrics=['accuracy'])\n",
        "print(model.summary())\n",
        "model.fit(x_train, y_train, epochs=10)\n",
        "\n",
        "test_loss, test_accuracy = model.evaluate(x_test, y_test, verbose=2)\n",
        "print('Test accuracy = ', test_accuracy)"
      ]
    }
  ]
}